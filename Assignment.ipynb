{
 "cells": [
  {
   "cell_type": "code",
   "execution_count": 104,
   "id": "67a574c3-bad1-46f7-a11b-f7162e855d79",
   "metadata": {},
   "outputs": [
    {
     "data": {
      "text/html": [
       "\n",
       "        <iframe\n",
       "            width=\"300\"\n",
       "            height=\"200\"\n",
       "            src=\"https://www.dataschool.io/files/iris.txt\"\n",
       "            frameborder=\"0\"\n",
       "            allowfullscreen\n",
       "        ></iframe>\n",
       "        "
      ],
      "text/plain": [
       "<IPython.lib.display.IFrame at 0x11522eafc48>"
      ]
     },
     "execution_count": 104,
     "metadata": {},
     "output_type": "execute_result"
    }
   ],
   "source": [
    "'''\n",
    "50 samples. 3 different species of iris (setosa, versicolor, virginica)\n",
    "number of samples: 150\n",
    "Measurements: sepal length, sepal width, petal length, petal width\n",
    "'''\n",
    "\n",
    "from sklearn.neighbors import KNeighborsClassifier\n",
    "from sklearn.linear_model import LogisticRegression\n",
    "import matplotlib.pyplot as plt\n",
    "import numpy as np\n",
    "\n",
    "\n",
    "from IPython.display import IFrame\n",
    "IFrame('https://www.dataschool.io/files/iris.txt', width=300, height=200)\n",
    "\n",
    "# in the first row we have:\n",
    "# 5.1,3.5,1.4,0.2,Iris-setosa\n",
    "# sepal length: 5.1 cm\n",
    "# sepal width: 3.5 cm\n",
    "# petal length: 1.4 cm\n",
    "# petal width: 0.2 cm\n",
    "# species: setosa\n",
    "\n",
    "\n"
   ]
  },
  {
   "cell_type": "markdown",
   "id": "f88e47e0-7e13-4af1-ba64-1dbbdabee9e6",
   "metadata": {
    "tags": []
   },
   "source": [
    "\n",
    "# Load the iris dataset and display its type and shape. Each row represets one flower, and each column represents a feature/measurement.\n",
    " "
   ]
  },
  {
   "cell_type": "code",
   "execution_count": 33,
   "id": "d2c81699-06d1-4233-972d-f6c3af377cd0",
   "metadata": {},
   "outputs": [
    {
     "name": "stdout",
     "output_type": "stream",
     "text": [
      "<class 'sklearn.utils.Bunch'>\n",
      "<class 'numpy.ndarray'>\n",
      "(150, 4)\n"
     ]
    }
   ],
   "source": [
    "# Loading the dataset using sklearn\n",
    "\n",
    "from sklearn.datasets import load_iris\n",
    "iris = load_iris()\n",
    "print(type(iris)) # <class 'sklearn.utils.Bunch'>\n",
    "print(type(iris.data)) # <class 'numpy.ndarray'>\n",
    "print(iris.data.shape) # (150, 4)\n",
    "#print(iris.data) # each row is one flower. each column is a feature/measurement\n"
   ]
  },
  {
   "cell_type": "code",
   "execution_count": 34,
   "id": "6080a69b-b106-4750-9274-ee44865a10fa",
   "metadata": {},
   "outputs": [
    {
     "name": "stdout",
     "output_type": "stream",
     "text": [
      "['sepal length (cm)', 'sepal width (cm)', 'petal length (cm)', 'petal width (cm)']\n",
      "[0 0 0 0 0 0 0 0 0 0 0 0 0 0 0 0 0 0 0 0 0 0 0 0 0 0 0 0 0 0 0 0 0 0 0 0 0\n",
      " 0 0 0 0 0 0 0 0 0 0 0 0 0 1 1 1 1 1 1 1 1 1 1 1 1 1 1 1 1 1 1 1 1 1 1 1 1\n",
      " 1 1 1 1 1 1 1 1 1 1 1 1 1 1 1 1 1 1 1 1 1 1 1 1 1 1 2 2 2 2 2 2 2 2 2 2 2\n",
      " 2 2 2 2 2 2 2 2 2 2 2 2 2 2 2 2 2 2 2 2 2 2 2 2 2 2 2 2 2 2 2 2 2 2 2 2 2\n",
      " 2 2]\n",
      "<class 'numpy.ndarray'>\n",
      "(150,)\n",
      "['setosa' 'versicolor' 'virginica']\n"
     ]
    }
   ],
   "source": [
    "# names of the 4 features\n",
    "print(iris.feature_names)\n",
    "# species of each flower\n",
    "print(iris.target)\n",
    "print(type(iris.target))\n",
    "print(iris.target.shape)\n",
    "# print the encoding scheme for species: 0 = setosa, 1 = versicolor, 2 = virginica\n",
    "print(iris.target_names)"
   ]
  },
  {
   "cell_type": "code",
   "execution_count": 35,
   "id": "a98718ba-26d4-470b-9018-5abf1bb8cdc8",
   "metadata": {},
   "outputs": [],
   "source": [
    "# store feature matrix in \"X\"\n",
    "X = iris.data\n",
    "# store response vector in \"y\"\n",
    "y = iris.target"
   ]
  },
  {
   "cell_type": "code",
   "execution_count": 36,
   "id": "a0c31a0c-df19-4b33-b763-9d813b5cc423",
   "metadata": {},
   "outputs": [
    {
     "name": "stdout",
     "output_type": "stream",
     "text": [
      "(150, 4)\n",
      "(150,)\n"
     ]
    }
   ],
   "source": [
    "print(X.shape)\n",
    "print(y.shape)"
   ]
  },
  {
   "cell_type": "code",
   "execution_count": 64,
   "id": "eb21e906-7c2c-45e7-ba4d-225b2efce24b",
   "metadata": {},
   "outputs": [],
   "source": [
    "knn1 = KNeighborsClassifier(n_neighbors=1) # n_neighbors is hyper-param"
   ]
  },
  {
   "cell_type": "code",
   "execution_count": 65,
   "id": "feb33bdd-2526-4254-92ba-edf4e0206f1e",
   "metadata": {},
   "outputs": [
    {
     "data": {
      "text/plain": [
       "KNeighborsClassifier(n_neighbors=1)"
      ]
     },
     "execution_count": 65,
     "metadata": {},
     "output_type": "execute_result"
    }
   ],
   "source": [
    "\n",
    "# Here it's the model training step. The model learns \n",
    "# the relationship between the features and the response.\n",
    "# the mathematical process through which the learning occurs \n",
    "# varies by model.We use the fit method on the knn object and pass it \n",
    "# the feature matrix X and the response vector y.\n",
    "knn1.fit(X,y)"
   ]
  },
  {
   "cell_type": "code",
   "execution_count": 66,
   "id": "d31fd198-9ced-4138-b5a7-c48c161fa27a",
   "metadata": {},
   "outputs": [
    {
     "name": "stdout",
     "output_type": "stream",
     "text": [
      "[2]\n",
      "virginica\n"
     ]
    }
   ],
   "source": [
    "responseValToSpecies = {0 : 'setosa', 1 : 'versicolor', 2 : 'virginica'}\n",
    "\n",
    "\n",
    "# Make predictions for new examples.\n",
    "# we input the measurements for unknown iris and ask\n",
    "# the fitted model to predict the iris species based on what it has learned in the previous cell.\n",
    "# we use the predict method on the knn object and pass it the features of the unknown iris\n",
    "# as a python list.\n",
    "\n",
    "# the predict method returns a numpy array with the predicted response value\n",
    "prediction = knn1.predict([[3,5,4,2]])\n",
    "print(prediction)\n",
    "print(responseValToSpecies[prediction[0]])"
   ]
  },
  {
   "cell_type": "code",
   "execution_count": 67,
   "id": "4f11728d-e784-4349-928a-9ec779ee4220",
   "metadata": {},
   "outputs": [
    {
     "name": "stdout",
     "output_type": "stream",
     "text": [
      "[1 1]\n",
      "(2,)\n",
      "versicolor\n",
      "versicolor\n"
     ]
    }
   ],
   "source": [
    "# predicting multiple observations using the trained knn model:\n",
    "new_samples = [[3,5,4,2],[5,4,3,2]]\n",
    "predictions = knn.predict(new_samples)\n",
    "print(predictions)\n",
    "print(predictions.shape)\n",
    "\n",
    "print(responseValToSpecies[predictions[0]])\n",
    "print(responseValToSpecies[predictions[1]])"
   ]
  },
  {
   "cell_type": "markdown",
   "id": "44e70347-eb7c-4015-87cd-158ab26ad76c",
   "metadata": {},
   "source": [
    "# Try Different value of K. Let's try K = 5. Predict the response with the trained model"
   ]
  },
  {
   "cell_type": "code",
   "execution_count": 68,
   "id": "89b86ab5-bbc9-4a6d-8361-f66150c9008f",
   "metadata": {},
   "outputs": [
    {
     "name": "stdout",
     "output_type": "stream",
     "text": [
      "[1 1]\n",
      "versicolor\n",
      "versicolor\n"
     ]
    }
   ],
   "source": [
    "# instantiate the model\n",
    "knn5 = KNeighborsClassifier(n_neighbors=5)\n",
    "# fit the model with the data\n",
    "knn5.fit(X,y)\n",
    "# predict the response for new_samples\n",
    "predictions = knn5.predict(new_samples)\n",
    "print(predictions)\n",
    "print(responseValToSpecies[predictions[0]])\n",
    "print(responseValToSpecies[predictions[1]])"
   ]
  },
  {
   "cell_type": "markdown",
   "id": "67b8090b-5406-478f-82f0-c5304c545db0",
   "metadata": {},
   "source": [
    "# Solve the Iris classification problem, this time using Logisitic Regression\n"
   ]
  },
  {
   "cell_type": "code",
   "execution_count": 72,
   "id": "84d39839-f475-4999-b7ee-12dd9833df09",
   "metadata": {},
   "outputs": [
    {
     "name": "stdout",
     "output_type": "stream",
     "text": [
      "[0 0]\n",
      "setosa\n",
      "setosa\n"
     ]
    }
   ],
   "source": [
    "# instantiate logisitic regression model\n",
    "logisticReg = LogisticRegression(max_iter=130)\n",
    "\n",
    "\n",
    "# fit the model with data\n",
    "logisticReg.fit(X,y)\n",
    "\n",
    "# make predictions for new_samples:\n",
    "predictions = logisticReg.predict(new_samples)\n",
    "print(predictions)\n",
    "print(responseValToSpecies[predictions[0]])\n",
    "print(responseValToSpecies[predictions[1]])\n",
    "\n"
   ]
  },
  {
   "cell_type": "markdown",
   "id": "2b99ab55-19f5-434e-886b-5c6a5924ba27",
   "metadata": {},
   "source": [
    "# Evaluate KNN and Logistic Regression using Train/Test split"
   ]
  },
  {
   "cell_type": "code",
   "execution_count": 80,
   "id": "28b48e89-57f3-4fd2-b66d-dcaea78c0c1d",
   "metadata": {},
   "outputs": [
    {
     "name": "stdout",
     "output_type": "stream",
     "text": [
      "(90, 4)\n",
      "(60, 4)\n",
      "(90,)\n",
      "(60,)\n"
     ]
    }
   ],
   "source": [
    "from sklearn.model_selection import train_test_split\n",
    "X_train, X_test, y_train, y_test = train_test_split(X,y, test_size=0.4, random_state=4)\n",
    "\n",
    "print(X_train.shape)\n",
    "print(X_test.shape)\n",
    "\n",
    "print(y_train.shape)\n",
    "print(y_test.shape)"
   ]
  },
  {
   "cell_type": "code",
   "execution_count": 92,
   "id": "fdc05e51-8ed6-457e-bb88-2c9da11aab3b",
   "metadata": {},
   "outputs": [
    {
     "data": {
      "text/plain": [
       "LogisticRegression()"
      ]
     },
     "execution_count": 92,
     "metadata": {},
     "output_type": "execute_result"
    }
   ],
   "source": [
    "logisticReg = LogisticRegression()\n",
    "logisticReg.fit(X_train, y_train)"
   ]
  },
  {
   "cell_type": "code",
   "execution_count": 93,
   "id": "28a632c0-b59c-4f75-aa14-240f49499f11",
   "metadata": {},
   "outputs": [
    {
     "name": "stdout",
     "output_type": "stream",
     "text": [
      "0.9666666666666667\n"
     ]
    }
   ],
   "source": [
    "# predicting on the test set\n",
    "predictions = logisticReg.predict(X_test)\n",
    "\n",
    "# compare predictions to ground truth\n",
    "print(metrics.accuracy_score(y_test, predictions))"
   ]
  },
  {
   "cell_type": "code",
   "execution_count": 94,
   "id": "1d3e718d-be3f-4f79-a1f3-7eab7937c59d",
   "metadata": {},
   "outputs": [
    {
     "data": {
      "text/plain": [
       "KNeighborsClassifier()"
      ]
     },
     "execution_count": 94,
     "metadata": {},
     "output_type": "execute_result"
    }
   ],
   "source": [
    "knn5 = KNeighborsClassifier(n_neighbors=5)\n",
    "knn5.fit(X_train, y_train)\n"
   ]
  },
  {
   "cell_type": "code",
   "execution_count": 95,
   "id": "5f827a79-bd0b-4e52-a40b-5147d96d1186",
   "metadata": {},
   "outputs": [
    {
     "name": "stdout",
     "output_type": "stream",
     "text": [
      "0.9666666666666667\n"
     ]
    }
   ],
   "source": [
    "predictions = knn5.predict(X_test)\n",
    "print(metrics.accuracy_score(y_test, predictions))"
   ]
  },
  {
   "cell_type": "code",
   "execution_count": 96,
   "id": "e63fbec5-1743-4c8f-bbf5-dd5f11d62838",
   "metadata": {},
   "outputs": [
    {
     "data": {
      "text/plain": [
       "KNeighborsClassifier(n_neighbors=1)"
      ]
     },
     "execution_count": 96,
     "metadata": {},
     "output_type": "execute_result"
    }
   ],
   "source": [
    "knn1 = KNeighborsClassifier(n_neighbors=1)\n",
    "knn1.fit(X_train, y_train)\n"
   ]
  },
  {
   "cell_type": "code",
   "execution_count": 97,
   "id": "cab33524-1083-49ed-8c86-16bb589369b0",
   "metadata": {},
   "outputs": [
    {
     "name": "stdout",
     "output_type": "stream",
     "text": [
      "0.95\n"
     ]
    }
   ],
   "source": [
    "predictions = knn1.predict(X_test)\n",
    "print(metrics.accuracy_score(y_test, predictions))"
   ]
  },
  {
   "cell_type": "code",
   "execution_count": 103,
   "id": "463d4dc5-94ef-4291-8257-541c62818273",
   "metadata": {},
   "outputs": [],
   "source": [
    "# try different values of k\n",
    "\n",
    "accuracy_list = []\n",
    "for k in range(1,30):\n",
    "    knn = KNeighborsClassifier(n_neighbors=k)\n",
    "    knn.fit(X_train, y_train)\n",
    "    predictions = knn.predict(X_test)\n",
    "    accuracy_list.append(metrics.accuracy_score(y_test, predictions))"
   ]
  },
  {
   "cell_type": "code",
   "execution_count": 107,
   "id": "8d3f678c-4675-407b-9be6-9449afffbad3",
   "metadata": {},
   "outputs": [
    {
     "data": {
      "text/plain": [
       "Text(0, 0.5, 'test accuracy')"
      ]
     },
     "execution_count": 107,
     "metadata": {},
     "output_type": "execute_result"
    },
    {
     "data": {
      "image/png": "[encoded data removed]",
      "text/plain": [
       "<Figure size 432x288 with 1 Axes>"
      ]
     },
     "metadata": {
      "needs_background": "light"
     },
     "output_type": "display_data"
    }
   ],
   "source": [
    "%matplotlib inline\n",
    "\n",
    "x = np.arange(1,30)\n",
    "plt.plot(x, accuracy_list)\n",
    "plt.xlabel('value of K')\n",
    "plt.ylabel('test accuracy')"
   ]
  },
  {
   "cell_type": "markdown",
   "id": "8a9a99ce-f586-49b9-88d5-cb98d9acb5e6",
   "metadata": {},
   "source": []
  }
 ],
 "metadata": {
  "kernelspec": {
   "display_name": "Python 3 (ipykernel)",
   "language": "python",
   "name": "python3"
  },
  "language_info": {
   "codemirror_mode": {
    "name": "ipython",
    "version": 3
   },
   "file_extension": ".py",
   "mimetype": "text/x-python",
   "name": "python",
   "nbconvert_exporter": "python",
   "pygments_lexer": "ipython3",
   "version": "3.7.8"
  }
 },
 "nbformat": 4,
 "nbformat_minor": 5
}
